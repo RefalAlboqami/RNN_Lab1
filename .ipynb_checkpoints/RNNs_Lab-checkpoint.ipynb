{
 "cells": [
  {
   "cell_type": "markdown",
   "id": "cdbfec32-1b50-43e9-a648-c9879dc4b79c",
   "metadata": {},
   "source": [
    "# Import Libraries"
   ]
  },
  {
   "cell_type": "code",
   "execution_count": 318,
   "id": "e1eb792b-8cfc-44d8-9d1c-0bf8c403fb8f",
   "metadata": {},
   "outputs": [],
   "source": [
    "import os\n",
    "import re\n",
    "\n",
    "import numpy as np\n",
    "import pandas as pd\n",
    "\n",
    "import nltk \n",
    "\n",
    "import tensorflow as tf\n",
    "from tensorflow.keras.preprocessing.text import Tokenizer\n",
    "from tensorflow.keras.models import Sequential\n",
    "from tensorflow.keras.layers import Embedding, LSTM, SimpleRNN, Dense, Dropout\n",
    "from tensorflow.keras.preprocessing.sequence import pad_sequences\n",
    "from keras.layers import Conv2D,MaxPool2D,GlobalAveragePooling2D,AveragePooling2D\n"
   ]
  },
  {
   "cell_type": "markdown",
   "id": "6a7705c2-42a1-4047-bbac-3a0f7465e032",
   "metadata": {},
   "source": [
    "# Load corpus"
   ]
  },
  {
   "cell_type": "markdown",
   "id": "31467209-c5d3-4a4f-a79f-4a2f6e68ce85",
   "metadata": {},
   "source": [
    "### Load Positives"
   ]
  },
  {
   "cell_type": "code",
   "execution_count": 299,
   "id": "8ef01310-47d6-44ac-aff1-abf4da07a42d",
   "metadata": {},
   "outputs": [],
   "source": [
    "train_tweets, train_labels = [], []\n",
    "\n",
    "pos = os.getcwd() + '/corpus/arabic_tweets/pos/'  # Replace with the actual directory path\n",
    "\n",
    "# Iterate over each file in the directory\n",
    "for filename in os.listdir(pos):\n",
    "    if filename.endswith('.txt'):  # Select only text files\n",
    "        file_path = os.path.join(pos, filename)\n",
    "        with open(file_path, 'r', encoding='utf-8-sig') as file:\n",
    "            file_content = file.read()\n",
    "            train_tweets.append(file_content)\n",
    "            train_labels.append(\"positive\")"
   ]
  },
  {
   "cell_type": "markdown",
   "id": "268d463c-377c-4730-9398-cb5fcaa5e44b",
   "metadata": {},
   "source": [
    "### Load Negatives"
   ]
  },
  {
   "cell_type": "code",
   "execution_count": 300,
   "id": "937bb606-b07a-4e7e-a83a-1ccce2b18263",
   "metadata": {},
   "outputs": [],
   "source": [
    "# Get the txt file negative tweet\n",
    "pos = os.getcwd() + '/corpus/arabic_tweets/neg/'  # Replace with the actual directory path\n",
    "\n",
    "# Iterate over each file in the directory\n",
    "for filename in os.listdir(pos):\n",
    "    if filename.endswith('.txt'):  # Select only text files\n",
    "        file_path = os.path.join(pos, filename)\n",
    "        with open(file_path, 'r', encoding='utf-8-sig') as file:\n",
    "            file_content = file.read()\n",
    "            train_tweets.append(file_content)\n",
    "            train_labels.append(\"negative\")"
   ]
  },
  {
   "cell_type": "markdown",
   "id": "3a2e8e33-f28b-4402-ab6d-f4925c1db165",
   "metadata": {},
   "source": [
    "### Build a dataframe"
   ]
  },
  {
   "cell_type": "code",
   "execution_count": 301,
   "id": "743b5741-d234-4d22-a833-76ec742cd6f3",
   "metadata": {},
   "outputs": [
    {
     "data": {
      "text/html": [
       "<div>\n",
       "<style scoped>\n",
       "    .dataframe tbody tr th:only-of-type {\n",
       "        vertical-align: middle;\n",
       "    }\n",
       "\n",
       "    .dataframe tbody tr th {\n",
       "        vertical-align: top;\n",
       "    }\n",
       "\n",
       "    .dataframe thead th {\n",
       "        text-align: right;\n",
       "    }\n",
       "</style>\n",
       "<table border=\"1\" class=\"dataframe\">\n",
       "  <thead>\n",
       "    <tr style=\"text-align: right;\">\n",
       "      <th></th>\n",
       "      <th>Tweets</th>\n",
       "      <th>Labels</th>\n",
       "    </tr>\n",
       "  </thead>\n",
       "  <tbody>\n",
       "    <tr>\n",
       "      <th>0</th>\n",
       "      <td>نحن الذين يتحول كل ما نود أن نقوله إلى دعاء لل...</td>\n",
       "      <td>positive</td>\n",
       "    </tr>\n",
       "    <tr>\n",
       "      <th>1</th>\n",
       "      <td>وفي النهاية لن يبقىٰ معك آحدإلا من رأىٰ الجمال...</td>\n",
       "      <td>positive</td>\n",
       "    </tr>\n",
       "    <tr>\n",
       "      <th>2</th>\n",
       "      <td>نمش ننوم ما دا ديل ولادنا 💚\\n</td>\n",
       "      <td>positive</td>\n",
       "    </tr>\n",
       "    <tr>\n",
       "      <th>3</th>\n",
       "      <td>تعدل النت وشفتها ✌\\n</td>\n",
       "      <td>positive</td>\n",
       "    </tr>\n",
       "    <tr>\n",
       "      <th>4</th>\n",
       "      <td>🎥 المهمة الأولى في \"جدة\" ✔💪🏼 💙 #الهلال #فيديو_...</td>\n",
       "      <td>positive</td>\n",
       "    </tr>\n",
       "    <tr>\n",
       "      <th>5</th>\n",
       "      <td>اللهم صيبآ نافعآ 🌹\\n</td>\n",
       "      <td>positive</td>\n",
       "    </tr>\n",
       "    <tr>\n",
       "      <th>6</th>\n",
       "      <td>وضع الدوري هالسنه 😁\\n</td>\n",
       "      <td>positive</td>\n",
       "    </tr>\n",
       "    <tr>\n",
       "      <th>7</th>\n",
       "      <td>بمناسبة فوز الهلال .. 💙 سحب على آيفون XR📱 رتوي...</td>\n",
       "      <td>positive</td>\n",
       "    </tr>\n",
       "    <tr>\n",
       "      <th>8</th>\n",
       "      <td>مفيش غيرك انتى و هو و عمالين نلف حوالين بعض 😂\\n</td>\n",
       "      <td>positive</td>\n",
       "    </tr>\n",
       "    <tr>\n",
       "      <th>9</th>\n",
       "      <td>الله يخليكك مبحبش اكدب انا 😂 😂\\n</td>\n",
       "      <td>positive</td>\n",
       "    </tr>\n",
       "  </tbody>\n",
       "</table>\n",
       "</div>"
      ],
      "text/plain": [
       "                                              Tweets    Labels\n",
       "0  نحن الذين يتحول كل ما نود أن نقوله إلى دعاء لل...  positive\n",
       "1  وفي النهاية لن يبقىٰ معك آحدإلا من رأىٰ الجمال...  positive\n",
       "2                      نمش ننوم ما دا ديل ولادنا 💚\\n  positive\n",
       "3                               تعدل النت وشفتها ✌\\n  positive\n",
       "4  🎥 المهمة الأولى في \"جدة\" ✔💪🏼 💙 #الهلال #فيديو_...  positive\n",
       "5                               اللهم صيبآ نافعآ 🌹\\n  positive\n",
       "6                              وضع الدوري هالسنه 😁\\n  positive\n",
       "7  بمناسبة فوز الهلال .. 💙 سحب على آيفون XR📱 رتوي...  positive\n",
       "8    مفيش غيرك انتى و هو و عمالين نلف حوالين بعض 😂\\n  positive\n",
       "9                   الله يخليكك مبحبش اكدب انا 😂 😂\\n  positive"
      ]
     },
     "execution_count": 301,
     "metadata": {},
     "output_type": "execute_result"
    }
   ],
   "source": [
    "train_dic = {\n",
    "    'Tweets' : train_tweets,\n",
    "    'Labels' : train_labels\n",
    "}\n",
    "\n",
    "train_corpus = pd.DataFrame(train_dic)\n",
    "train_corpus.head(10)"
   ]
  },
  {
   "cell_type": "markdown",
   "id": "6b046ada-13fc-45d2-9056-b4115de8e812",
   "metadata": {},
   "source": [
    "# EDA\n",
    "\n",
    "##### Explore your dataset"
   ]
  },
  {
   "cell_type": "code",
   "execution_count": 302,
   "id": "8b6d563b-a771-43b4-8e43-3688275b1f34",
   "metadata": {},
   "outputs": [
    {
     "data": {
      "text/plain": [
       "(58751, 2)"
      ]
     },
     "execution_count": 302,
     "metadata": {},
     "output_type": "execute_result"
    }
   ],
   "source": [
    "train_corpus.shape"
   ]
  },
  {
   "cell_type": "code",
   "execution_count": 303,
   "id": "084702a2",
   "metadata": {},
   "outputs": [
    {
     "data": {
      "text/plain": [
       "22028"
      ]
     },
     "execution_count": 303,
     "metadata": {},
     "output_type": "execute_result"
    }
   ],
   "source": [
    "train_corpus['Tweets'].duplicated().sum()"
   ]
  },
  {
   "cell_type": "code",
   "execution_count": 304,
   "id": "22ff0a29",
   "metadata": {},
   "outputs": [],
   "source": [
    "train_corpus.drop_duplicates(subset='Tweets', keep=\"first\", inplace=True)"
   ]
  },
  {
   "cell_type": "code",
   "execution_count": 305,
   "id": "f955b03f",
   "metadata": {},
   "outputs": [
    {
     "data": {
      "text/plain": [
       "0"
      ]
     },
     "execution_count": 305,
     "metadata": {},
     "output_type": "execute_result"
    }
   ],
   "source": [
    "train_corpus['Tweets'].duplicated().sum()"
   ]
  },
  {
   "cell_type": "code",
   "execution_count": 306,
   "id": "4332aa4d",
   "metadata": {},
   "outputs": [
    {
     "data": {
      "text/plain": [
       "(36723, 2)"
      ]
     },
     "execution_count": 306,
     "metadata": {},
     "output_type": "execute_result"
    }
   ],
   "source": [
    "train_corpus.shape"
   ]
  },
  {
   "cell_type": "code",
   "execution_count": 307,
   "id": "43493976",
   "metadata": {},
   "outputs": [
    {
     "data": {
      "text/html": [
       "<div>\n",
       "<style scoped>\n",
       "    .dataframe tbody tr th:only-of-type {\n",
       "        vertical-align: middle;\n",
       "    }\n",
       "\n",
       "    .dataframe tbody tr th {\n",
       "        vertical-align: top;\n",
       "    }\n",
       "\n",
       "    .dataframe thead th {\n",
       "        text-align: right;\n",
       "    }\n",
       "</style>\n",
       "<table border=\"1\" class=\"dataframe\">\n",
       "  <thead>\n",
       "    <tr style=\"text-align: right;\">\n",
       "      <th></th>\n",
       "      <th>Tweets</th>\n",
       "      <th>Labels</th>\n",
       "    </tr>\n",
       "  </thead>\n",
       "  <tbody>\n",
       "    <tr>\n",
       "      <th>0</th>\n",
       "      <td>نحن الذين يتحول كل ما نود أن نقوله إلى دعاء لل...</td>\n",
       "      <td>positive</td>\n",
       "    </tr>\n",
       "    <tr>\n",
       "      <th>1</th>\n",
       "      <td>وفي النهاية لن يبقىٰ معك آحدإلا من رأىٰ الجمال...</td>\n",
       "      <td>positive</td>\n",
       "    </tr>\n",
       "    <tr>\n",
       "      <th>2</th>\n",
       "      <td>نمش ننوم ما دا ديل ولادنا 💚\\n</td>\n",
       "      <td>positive</td>\n",
       "    </tr>\n",
       "    <tr>\n",
       "      <th>3</th>\n",
       "      <td>تعدل النت وشفتها ✌\\n</td>\n",
       "      <td>positive</td>\n",
       "    </tr>\n",
       "    <tr>\n",
       "      <th>4</th>\n",
       "      <td>🎥 المهمة الأولى في \"جدة\" ✔💪🏼 💙 #الهلال #فيديو_...</td>\n",
       "      <td>positive</td>\n",
       "    </tr>\n",
       "  </tbody>\n",
       "</table>\n",
       "</div>"
      ],
      "text/plain": [
       "                                              Tweets    Labels\n",
       "0  نحن الذين يتحول كل ما نود أن نقوله إلى دعاء لل...  positive\n",
       "1  وفي النهاية لن يبقىٰ معك آحدإلا من رأىٰ الجمال...  positive\n",
       "2                      نمش ننوم ما دا ديل ولادنا 💚\\n  positive\n",
       "3                               تعدل النت وشفتها ✌\\n  positive\n",
       "4  🎥 المهمة الأولى في \"جدة\" ✔💪🏼 💙 #الهلال #فيديو_...  positive"
      ]
     },
     "execution_count": 307,
     "metadata": {},
     "output_type": "execute_result"
    }
   ],
   "source": [
    "train_corpus.head()"
   ]
  },
  {
   "cell_type": "markdown",
   "id": "d8d8d4a6-89a4-47b1-bf43-08dc09b97506",
   "metadata": {},
   "source": [
    "# Data Preprocessing"
   ]
  },
  {
   "cell_type": "markdown",
   "id": "01f8d9fa-6fb7-4352-aadb-3abeb932c412",
   "metadata": {},
   "source": [
    "### Shuffle all rows"
   ]
  },
  {
   "cell_type": "code",
   "execution_count": 308,
   "id": "246bb815-274b-43a3-9d60-967a5864a6da",
   "metadata": {},
   "outputs": [
    {
     "data": {
      "text/html": [
       "<div>\n",
       "<style scoped>\n",
       "    .dataframe tbody tr th:only-of-type {\n",
       "        vertical-align: middle;\n",
       "    }\n",
       "\n",
       "    .dataframe tbody tr th {\n",
       "        vertical-align: top;\n",
       "    }\n",
       "\n",
       "    .dataframe thead th {\n",
       "        text-align: right;\n",
       "    }\n",
       "</style>\n",
       "<table border=\"1\" class=\"dataframe\">\n",
       "  <thead>\n",
       "    <tr style=\"text-align: right;\">\n",
       "      <th></th>\n",
       "      <th>Tweets</th>\n",
       "      <th>Labels</th>\n",
       "    </tr>\n",
       "  </thead>\n",
       "  <tbody>\n",
       "    <tr>\n",
       "      <th>41740</th>\n",
       "      <td>سويت لك لايكات رديها لاهنتي 😥\\n</td>\n",
       "      <td>negative</td>\n",
       "    </tr>\n",
       "    <tr>\n",
       "      <th>39945</th>\n",
       "      <td>🤔 اول شي مو داش مكتبه عشان اطلع لك الارشيف وثا...</td>\n",
       "      <td>negative</td>\n",
       "    </tr>\n",
       "    <tr>\n",
       "      <th>10234</th>\n",
       "      <td>✍🏻 ● ♪ ° أريدڪ وأرفضڪ في آن وآحد ..! أتجآهلڪ و...</td>\n",
       "      <td>positive</td>\n",
       "    </tr>\n",
       "    <tr>\n",
       "      <th>15441</th>\n",
       "      <td>صباح الخير أيها الكوكب 😍 اليوم بتبدا سنتي وتجر...</td>\n",
       "      <td>positive</td>\n",
       "    </tr>\n",
       "    <tr>\n",
       "      <th>39638</th>\n",
       "      <td>اقولكم جيبولنا ناس يدرسوا الحجازيين كيف يردوا ...</td>\n",
       "      <td>negative</td>\n",
       "    </tr>\n",
       "  </tbody>\n",
       "</table>\n",
       "</div>"
      ],
      "text/plain": [
       "                                                  Tweets    Labels\n",
       "41740                    سويت لك لايكات رديها لاهنتي 😥\\n  negative\n",
       "39945  🤔 اول شي مو داش مكتبه عشان اطلع لك الارشيف وثا...  negative\n",
       "10234  ✍🏻 ● ♪ ° أريدڪ وأرفضڪ في آن وآحد ..! أتجآهلڪ و...  positive\n",
       "15441  صباح الخير أيها الكوكب 😍 اليوم بتبدا سنتي وتجر...  positive\n",
       "39638  اقولكم جيبولنا ناس يدرسوا الحجازيين كيف يردوا ...  negative"
      ]
     },
     "execution_count": 308,
     "metadata": {},
     "output_type": "execute_result"
    }
   ],
   "source": [
    "train_corpus = train_corpus.sample(frac=1, random_state=42)\n",
    "train_corpus.head()"
   ]
  },
  {
   "cell_type": "markdown",
   "id": "7c10a499-afa6-4d35-aa8a-53dbcae8e557",
   "metadata": {},
   "source": [
    "### Data cleaning\n",
    "\n",
    "**Hint: remove URLs, Hashtags, alphanumeric characters, punctuation marks, stop words, extra spaces**"
   ]
  },
  {
   "cell_type": "code",
   "execution_count": 309,
   "id": "d141959a",
   "metadata": {},
   "outputs": [],
   "source": [
    "URL_pattern = r\"http[s]?://(?:[a-zA-Z]|[0-9]|[$-_@.&+]|[!*\\\\(\\\\),]|(?:%[0-9a-fA-F][0-9a-fA-F]))+\"\n",
    "hashtag_pattern = r\"#\\w+\"\n",
    "mention_pattern = r\"@\\w+\"\n",
    "alphanumeric_pattern = r\"\\w*\\d\\w*\"\n",
    "punctuation_pattern = r\"[^\\w\\s]\"\n",
    "retweet_pattern = r\"^RT[\\s]+\""
   ]
  },
  {
   "cell_type": "code",
   "execution_count": 310,
   "id": "957b0161-4c2d-4f33-90a3-e8892a27455a",
   "metadata": {},
   "outputs": [],
   "source": [
    "def load_stopwords(file_path):\n",
    "    with open(file_path, 'r', encoding=\"utf-8\") as f:\n",
    "        stopwords = f.readlines()\n",
    "        stop_set = set(m.strip() for m in stopwords)\n",
    "    return frozenset(stop_set)\n",
    "\n",
    "def process_text(text, stop_words):\n",
    "    text = re.sub(URL_pattern, '', text)\n",
    "    text = re.sub(hashtag_pattern, '', text)    \n",
    "    text = re.sub(mention_pattern, '', text)\n",
    "    text = re.sub(alphanumeric_pattern, '', text)\n",
    "    text = re.sub(punctuation_pattern, '', text)    \n",
    "    text = re.sub(retweet_pattern, '', text)\n",
    "\n",
    "    text = ' '.join([word for word in text.split() if word.lower() not in stop_words])\n",
    "    text = ' '.join(text.split())\n",
    "    return text"
   ]
  },
  {
   "cell_type": "markdown",
   "id": "d5996172",
   "metadata": {},
   "source": [
    "#### Now Clean your text using above function or implement it from scrach"
   ]
  },
  {
   "cell_type": "code",
   "execution_count": 311,
   "id": "42e2c527",
   "metadata": {
    "scrolled": false
   },
   "outputs": [
    {
     "data": {
      "text/plain": [
       "41740                          سويت لك لايكات رديها لاهنتي\n",
       "39945    شي مو داش مكتبه عشان اطلع لك الارشيف وثانيا ان...\n",
       "10234    أريدڪ وأرفضڪ آن وآحد أتجآهلڪ وڪل قلبي منتبه ال...\n",
       "15441    الخير أيها الكوكب بتبدا سنتي وتجربتي الجديدة ب...\n",
       "39638    اقولكم جيبولنا ناس يدرسوا الحجازيين كيف يردوا ...\n",
       "                               ...                        \n",
       "27451    إذا سئمت الوجود لبرهة فاجعل الواو الكئيبة سينا...\n",
       "8555     ليس عليك أن تكون قويا دائما مر بلحظات الضعف ول...\n",
       "16950    شنو ال اتفه الشغلات الي توسوس منهاا امتنع الرد...\n",
       "966      واخيرا وبعد طول انتظار لطيف بس مرضتش اقول يخلص بس\n",
       "25392    ويبقى لك سماء صدري أجمل أرشيف غبت وهب النسيم أ...\n",
       "Name: Tweets, Length: 36723, dtype: object"
      ]
     },
     "execution_count": 311,
     "metadata": {},
     "output_type": "execute_result"
    }
   ],
   "source": [
    "stop_words = load_stopwords('C:\\\\Users\\\\rifal\\\\Desktop\\\\RNN_Lab1\\\\corpus\\\\Stop_Words.txt')\n",
    "\n",
    "\n",
    "tweets=pd.Series(train_corpus['Tweets'])\n",
    "\n",
    "def clean_text(text):\n",
    "    return process_text(text, stop_words)\n",
    "\n",
    "ctweets = tweets.apply(clean_text)\n",
    "ctweets"
   ]
  },
  {
   "cell_type": "markdown",
   "id": "acf0cb63",
   "metadata": {},
   "source": [
    "#### Extra: you could do stemming or lemmatization before training"
   ]
  },
  {
   "cell_type": "code",
   "execution_count": 312,
   "id": "4773dc26",
   "metadata": {},
   "outputs": [
    {
     "data": {
      "text/html": [
       "<div>\n",
       "<style scoped>\n",
       "    .dataframe tbody tr th:only-of-type {\n",
       "        vertical-align: middle;\n",
       "    }\n",
       "\n",
       "    .dataframe tbody tr th {\n",
       "        vertical-align: top;\n",
       "    }\n",
       "\n",
       "    .dataframe thead th {\n",
       "        text-align: right;\n",
       "    }\n",
       "</style>\n",
       "<table border=\"1\" class=\"dataframe\">\n",
       "  <thead>\n",
       "    <tr style=\"text-align: right;\">\n",
       "      <th></th>\n",
       "      <th>Tweets</th>\n",
       "      <th>Labels</th>\n",
       "      <th>CleanedTweets</th>\n",
       "    </tr>\n",
       "  </thead>\n",
       "  <tbody>\n",
       "    <tr>\n",
       "      <th>41740</th>\n",
       "      <td>سويت لك لايكات رديها لاهنتي 😥\\n</td>\n",
       "      <td>negative</td>\n",
       "      <td>سويت لك لايكات رديها لاهنتي</td>\n",
       "    </tr>\n",
       "    <tr>\n",
       "      <th>39945</th>\n",
       "      <td>🤔 اول شي مو داش مكتبه عشان اطلع لك الارشيف وثا...</td>\n",
       "      <td>negative</td>\n",
       "      <td>شي مو داش مكتبه عشان اطلع لك الارشيف وثانيا ان...</td>\n",
       "    </tr>\n",
       "    <tr>\n",
       "      <th>10234</th>\n",
       "      <td>✍🏻 ● ♪ ° أريدڪ وأرفضڪ في آن وآحد ..! أتجآهلڪ و...</td>\n",
       "      <td>positive</td>\n",
       "      <td>أريدڪ وأرفضڪ آن وآحد أتجآهلڪ وڪل قلبي منتبه ال...</td>\n",
       "    </tr>\n",
       "    <tr>\n",
       "      <th>15441</th>\n",
       "      <td>صباح الخير أيها الكوكب 😍 اليوم بتبدا سنتي وتجر...</td>\n",
       "      <td>positive</td>\n",
       "      <td>الخير أيها الكوكب بتبدا سنتي وتجربتي الجديدة ب...</td>\n",
       "    </tr>\n",
       "    <tr>\n",
       "      <th>39638</th>\n",
       "      <td>اقولكم جيبولنا ناس يدرسوا الحجازيين كيف يردوا ...</td>\n",
       "      <td>negative</td>\n",
       "      <td>اقولكم جيبولنا ناس يدرسوا الحجازيين كيف يردوا ...</td>\n",
       "    </tr>\n",
       "    <tr>\n",
       "      <th>...</th>\n",
       "      <td>...</td>\n",
       "      <td>...</td>\n",
       "      <td>...</td>\n",
       "    </tr>\n",
       "    <tr>\n",
       "      <th>27451</th>\n",
       "      <td>🍁 « و إذا سئمت من ( الوجود ) لبرهة فاجعل من ال...</td>\n",
       "      <td>positive</td>\n",
       "      <td>إذا سئمت الوجود لبرهة فاجعل الواو الكئيبة سينا...</td>\n",
       "    </tr>\n",
       "    <tr>\n",
       "      <th>8555</th>\n",
       "      <td>ليس عليك أن تكون قويا دائما مر بلحظات الضعف ول...</td>\n",
       "      <td>positive</td>\n",
       "      <td>ليس عليك أن تكون قويا دائما مر بلحظات الضعف ول...</td>\n",
       "    </tr>\n",
       "    <tr>\n",
       "      <th>16950</th>\n",
       "      <td>شنو ال ( اتفه الشغلات ) الي توسوس منهاا 😂😂 — ا...</td>\n",
       "      <td>positive</td>\n",
       "      <td>شنو ال اتفه الشغلات الي توسوس منهاا امتنع الرد...</td>\n",
       "    </tr>\n",
       "    <tr>\n",
       "      <th>966</th>\n",
       "      <td>واخيرا وبعد طول انتظار كان يوم لطيف بس مرضتش ا...</td>\n",
       "      <td>positive</td>\n",
       "      <td>واخيرا وبعد طول انتظار لطيف بس مرضتش اقول يخلص بس</td>\n",
       "    </tr>\n",
       "    <tr>\n",
       "      <th>25392</th>\n",
       "      <td>🌹 ويبقى لك .. في سماء صدري أجمل أرشيف كل ما غب...</td>\n",
       "      <td>positive</td>\n",
       "      <td>ويبقى لك سماء صدري أجمل أرشيف غبت وهب النسيم أ...</td>\n",
       "    </tr>\n",
       "  </tbody>\n",
       "</table>\n",
       "<p>36723 rows × 3 columns</p>\n",
       "</div>"
      ],
      "text/plain": [
       "                                                  Tweets    Labels  \\\n",
       "41740                    سويت لك لايكات رديها لاهنتي 😥\\n  negative   \n",
       "39945  🤔 اول شي مو داش مكتبه عشان اطلع لك الارشيف وثا...  negative   \n",
       "10234  ✍🏻 ● ♪ ° أريدڪ وأرفضڪ في آن وآحد ..! أتجآهلڪ و...  positive   \n",
       "15441  صباح الخير أيها الكوكب 😍 اليوم بتبدا سنتي وتجر...  positive   \n",
       "39638  اقولكم جيبولنا ناس يدرسوا الحجازيين كيف يردوا ...  negative   \n",
       "...                                                  ...       ...   \n",
       "27451  🍁 « و إذا سئمت من ( الوجود ) لبرهة فاجعل من ال...  positive   \n",
       "8555   ليس عليك أن تكون قويا دائما مر بلحظات الضعف ول...  positive   \n",
       "16950  شنو ال ( اتفه الشغلات ) الي توسوس منهاا 😂😂 — ا...  positive   \n",
       "966    واخيرا وبعد طول انتظار كان يوم لطيف بس مرضتش ا...  positive   \n",
       "25392  🌹 ويبقى لك .. في سماء صدري أجمل أرشيف كل ما غب...  positive   \n",
       "\n",
       "                                           CleanedTweets  \n",
       "41740                        سويت لك لايكات رديها لاهنتي  \n",
       "39945  شي مو داش مكتبه عشان اطلع لك الارشيف وثانيا ان...  \n",
       "10234  أريدڪ وأرفضڪ آن وآحد أتجآهلڪ وڪل قلبي منتبه ال...  \n",
       "15441  الخير أيها الكوكب بتبدا سنتي وتجربتي الجديدة ب...  \n",
       "39638  اقولكم جيبولنا ناس يدرسوا الحجازيين كيف يردوا ...  \n",
       "...                                                  ...  \n",
       "27451  إذا سئمت الوجود لبرهة فاجعل الواو الكئيبة سينا...  \n",
       "8555   ليس عليك أن تكون قويا دائما مر بلحظات الضعف ول...  \n",
       "16950  شنو ال اتفه الشغلات الي توسوس منهاا امتنع الرد...  \n",
       "966    واخيرا وبعد طول انتظار لطيف بس مرضتش اقول يخلص بس  \n",
       "25392  ويبقى لك سماء صدري أجمل أرشيف غبت وهب النسيم أ...  \n",
       "\n",
       "[36723 rows x 3 columns]"
      ]
     },
     "execution_count": 312,
     "metadata": {},
     "output_type": "execute_result"
    }
   ],
   "source": [
    "train_corpus['CleanedTweets'] = ctweets\n",
    "train_corpus"
   ]
  },
  {
   "cell_type": "markdown",
   "id": "160549cf-bffd-4205-a8fa-a6aa0695bcd8",
   "metadata": {},
   "source": [
    "# Tokenizer"
   ]
  },
  {
   "cell_type": "markdown",
   "id": "5bba90d2-7712-4e80-9120-c82f495b5f66",
   "metadata": {},
   "source": [
    "# Text to sequence"
   ]
  },
  {
   "cell_type": "markdown",
   "id": "21c31c7d-0375-4ef2-9f51-dccef70793d3",
   "metadata": {},
   "source": [
    "# Pad sequence"
   ]
  },
  {
   "cell_type": "markdown",
   "id": "b485120c-47f1-43e9-b6c1-cbe0a69f04c7",
   "metadata": {},
   "source": [
    "# Split data to train and test"
   ]
  },
  {
   "cell_type": "code",
   "execution_count": 314,
   "id": "15673233",
   "metadata": {},
   "outputs": [
    {
     "data": {
      "text/plain": [
       "((29378, 100), (7345, 100), (29378, 1), (7345, 1))"
      ]
     },
     "execution_count": 314,
     "metadata": {},
     "output_type": "execute_result"
    }
   ],
   "source": [
    "from sklearn.model_selection import train_test_split\n",
    "from sklearn.preprocessing import LabelEncoder\n",
    "\n",
    "epochs = 50\n",
    "batch_size = 64\n",
    "\n",
    "X = train_corpus['CleanedTweets']\n",
    "y = train_corpus['Labels']\n",
    "\n",
    "tokenizer = Tokenizer()\n",
    "tokenizer.fit_on_texts(X)\n",
    "sequences = tokenizer.texts_to_sequences(X)\n",
    "\n",
    "max_sequence_length = 100\n",
    "padded_sequences = pad_sequences(sequences, maxlen=max_sequence_length)\n",
    "\n",
    "\n",
    "y = y.replace({'positive': 1, 'negative': 0})\n",
    "\n",
    "X_train, X_test, y_train, y_test = train_test_split(padded_sequences, y, test_size=0.2, random_state=42)\n",
    "y_train = np.asarray(y_train).astype('float32').reshape((-1,1))\n",
    "y_test = np.asarray(y_test).astype('float32').reshape((-1,1))\n",
    "X_train.shape, X_test.shape, y_train.shape, y_test.shape"
   ]
  },
  {
   "cell_type": "markdown",
   "id": "8e5d0909-8e90-4aef-9ddb-42c3597791cb",
   "metadata": {},
   "source": [
    "# RNN Model"
   ]
  },
  {
   "cell_type": "code",
   "execution_count": null,
   "id": "47efb8b2-7635-48ba-a4ae-4118862e74a7",
   "metadata": {},
   "outputs": [],
   "source": [
    "model = Sequential()\n",
    "model.add(Embedding(input_dim=num_classes, output_dim=100, input_length=max_sequence_length))\n",
    "model.add(LSTM(units=128))\n",
    "model.add(Dense(units=num_classes, activation='softmax'))\n",
    "\n",
    "model.compile(loss='categorical_crossentropy', optimizer='adam', metrics=['accuracy'])\n",
    "\n",
    "model.fit(y_train, epochs=epoch, batch_size=batch_size)"
   ]
  },
  {
   "cell_type": "code",
   "execution_count": null,
   "id": "54613093",
   "metadata": {},
   "outputs": [],
   "source": [
    "model.summary()"
   ]
  },
  {
   "cell_type": "markdown",
   "id": "d8a35492-747b-4fea-a80c-1602ff36da21",
   "metadata": {},
   "source": [
    "# LSTM Model"
   ]
  },
  {
   "cell_type": "code",
   "execution_count": null,
   "id": "dea5fb34-e15c-45cf-bf39-5a4c65a28705",
   "metadata": {},
   "outputs": [],
   "source": [
    "model.add(LSTM(units=128))"
   ]
  },
  {
   "cell_type": "markdown",
   "id": "7e105a33-8de7-406f-a5fb-c1a558c7bb9d",
   "metadata": {},
   "source": [
    "# Evaulation and Comparsion"
   ]
  },
  {
   "cell_type": "code",
   "execution_count": null,
   "id": "3a956b35-0604-44d5-87f2-eacfb36870d2",
   "metadata": {},
   "outputs": [],
   "source": []
  },
  {
   "cell_type": "code",
   "execution_count": null,
   "id": "84db070e",
   "metadata": {},
   "outputs": [],
   "source": []
  }
 ],
 "metadata": {
  "kernelspec": {
   "display_name": "Python 3 (ipykernel)",
   "language": "python",
   "name": "python3"
  },
  "language_info": {
   "codemirror_mode": {
    "name": "ipython",
    "version": 3
   },
   "file_extension": ".py",
   "mimetype": "text/x-python",
   "name": "python",
   "nbconvert_exporter": "python",
   "pygments_lexer": "ipython3",
   "version": "3.11.5"
  }
 },
 "nbformat": 4,
 "nbformat_minor": 5
}
